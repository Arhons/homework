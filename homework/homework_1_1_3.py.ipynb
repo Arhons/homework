{
 "cells": [
  {
   "cell_type": "code",
   "execution_count": 39,
   "id": "3682a216",
   "metadata": {},
   "outputs": [
    {
     "name": "stdout",
     "output_type": "stream",
     "text": [
      "wefewfe wewfew\n",
      "e f\n"
     ]
    }
   ],
   "source": [
    "arr = list(input())\n",
    "if len(arr) > 4:\n",
    "    print(arr[3], arr[5])\n",
    "else:\n",
    "    ar = list(reversed(arr))\n",
    "    for i in range(len(arr)):\n",
    "        if i % 2 == 0:\n",
    "            print(ar[i], end = \"\")"
   ]
  },
  {
   "cell_type": "code",
   "execution_count": null,
   "id": "701a2e0b",
   "metadata": {},
   "outputs": [],
   "source": []
  }
 ],
 "metadata": {
  "kernelspec": {
   "display_name": "Python 3",
   "language": "python",
   "name": "python3"
  },
  "language_info": {
   "codemirror_mode": {
    "name": "ipython",
    "version": 3
   },
   "file_extension": ".py",
   "mimetype": "text/x-python",
   "name": "python",
   "nbconvert_exporter": "python",
   "pygments_lexer": "ipython3",
   "version": "3.8.8"
  }
 },
 "nbformat": 4,
 "nbformat_minor": 5
}
