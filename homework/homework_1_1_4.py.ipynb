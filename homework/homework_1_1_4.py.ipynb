{
 "cells": [
  {
   "cell_type": "code",
   "execution_count": 1,
   "id": "60f79767",
   "metadata": {},
   "outputs": [
    {
     "name": "stdout",
     "output_type": "stream",
     "text": [
      "4 5 6 7 -1 -2 0 10\n",
      "2 1 5\n"
     ]
    }
   ],
   "source": [
    "arr = list(map(int, input().split()))\n",
    "negnum = 0\n",
    "num8 = 0\n",
    "evennum = 0\n",
    "for i in range(len(arr)):\n",
    "    if arr[i] < 0:\n",
    "        negnum+=1\n",
    "    if arr[i] % 2 == 0:\n",
    "        evennum+=1\n",
    "    if arr[i] > 8:\n",
    "        num8+=1\n",
    "print(negnum, num8, evennum)"
   ]
  },
  {
   "cell_type": "code",
   "execution_count": null,
   "id": "871d3c32",
   "metadata": {},
   "outputs": [],
   "source": []
  }
 ],
 "metadata": {
  "kernelspec": {
   "display_name": "Python 3",
   "language": "python",
   "name": "python3"
  },
  "language_info": {
   "codemirror_mode": {
    "name": "ipython",
    "version": 3
   },
   "file_extension": ".py",
   "mimetype": "text/x-python",
   "name": "python",
   "nbconvert_exporter": "python",
   "pygments_lexer": "ipython3",
   "version": "3.8.8"
  }
 },
 "nbformat": 4,
 "nbformat_minor": 5
}
