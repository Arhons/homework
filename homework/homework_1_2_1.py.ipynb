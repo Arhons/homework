{
 "cells": [
  {
   "cell_type": "code",
   "execution_count": 3,
   "id": "f5bafc1d",
   "metadata": {},
   "outputs": [
    {
     "name": "stdout",
     "output_type": "stream",
     "text": [
      "2\n",
      "FF FF 1 False\n",
      "TT TT 1 True\n",
      "1 1\n"
     ]
    }
   ],
   "source": [
    "n = int(input())\n",
    "req = []\n",
    "tnum = 0\n",
    "fnum = 0\n",
    "for i in range(n):\n",
    "    req = list(input().split())\n",
    "    if (req[-1] == \"True\"):\n",
    "        tnum+=1\n",
    "    else:\n",
    "        fnum+=1\n",
    "print(tnum, fnum)"
   ]
  },
  {
   "cell_type": "code",
   "execution_count": null,
   "id": "445add3e",
   "metadata": {},
   "outputs": [],
   "source": []
  }
 ],
 "metadata": {
  "kernelspec": {
   "display_name": "Python 3",
   "language": "python",
   "name": "python3"
  },
  "language_info": {
   "codemirror_mode": {
    "name": "ipython",
    "version": 3
   },
   "file_extension": ".py",
   "mimetype": "text/x-python",
   "name": "python",
   "nbconvert_exporter": "python",
   "pygments_lexer": "ipython3",
   "version": "3.8.8"
  }
 },
 "nbformat": 4,
 "nbformat_minor": 5
}
